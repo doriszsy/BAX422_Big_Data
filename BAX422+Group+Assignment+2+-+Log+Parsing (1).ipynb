{
 "cells": [
  {
   "cell_type": "code",
   "execution_count": 1,
   "metadata": {
    "collapsed": true
   },
   "outputs": [],
   "source": [
    "read = open('data/msnbc990928.seq', 'r')"
   ]
  },
  {
   "cell_type": "code",
   "execution_count": 2,
   "metadata": {
    "collapsed": true
   },
   "outputs": [],
   "source": [
    "# note the file has several lines of comment before record of sessions  \n",
    "# read only sessions into seq\n",
    "seq = []\n",
    "for eachLine in read:\n",
    "    numbers = eachLine.split()\n",
    "    currLine = []\n",
    "    check = 0\n",
    "    for num in numbers:\n",
    "        if(num.isdigit() == False):\n",
    "            check = 1\n",
    "        currLine.append(num)\n",
    "\n",
    "    if(check == 0 and len(currLine) != 0):\n",
    "        seq.append(currLine)\n"
   ]
  },
  {
   "cell_type": "code",
   "execution_count": 3,
   "metadata": {
    "collapsed": true
   },
   "outputs": [],
   "source": [
    "# res1 count % of pg12 AND pg17 in the same session\n",
    "# res2 count % of pg12 AFTER pg17 in the same session\n",
    "\n",
    "res1 = 0;\n",
    "res2 = 0;\n",
    "\n",
    "for eachLine in seq: \n",
    "    if('12' in eachLine and '17' in eachLine):\n",
    "        res1 += 1\n",
    "        if(eachLine.index('17') < (len(eachLine) - eachLine[::-1].index('12') - 1)):\n",
    "            res2 += 1\n"
   ]
  },
  {
   "cell_type": "code",
   "execution_count": 4,
   "metadata": {},
   "outputs": [
    {
     "name": "stdout",
     "output_type": "stream",
     "text": [
      "0.2595 % of visitors visited page 12 AND page 17.\n",
      "0.1597 % of visitors visited page 12 AFTER page 17.\n"
     ]
    }
   ],
   "source": [
    "#print result\n",
    "res = (res1 / len(seq)) * 100\n",
    "res = round(res, 4)\n",
    "print (res, \"% of visitors visited page 12 AND page 17.\")\n",
    "\n",
    "res = (res2 / len(seq)) * 100\n",
    "res = round(res, 4)\n",
    "print (res, \"% of visitors visited page 12 AFTER page 17.\")\n"
   ]
  },
  {
   "cell_type": "code",
   "execution_count": null,
   "metadata": {
    "collapsed": true
   },
   "outputs": [],
   "source": []
  }
 ],
 "metadata": {
  "kernelspec": {
   "display_name": "Python 3",
   "language": "python",
   "name": "python3"
  },
  "language_info": {
   "codemirror_mode": {
    "name": "ipython",
    "version": 3
   },
   "file_extension": ".py",
   "mimetype": "text/x-python",
   "name": "python",
   "nbconvert_exporter": "python",
   "pygments_lexer": "ipython3",
   "version": "3.6.3"
  }
 },
 "nbformat": 4,
 "nbformat_minor": 2
}
