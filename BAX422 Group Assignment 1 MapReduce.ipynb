{
 "cells": [
  {
   "cell_type": "code",
   "execution_count": 1,
   "metadata": {},
   "outputs": [],
   "source": [
    "book = [[\"Mary\", \"Lamb\", \"Had\", \"A\"], [\"Little\", \"Lamb\"]]\n",
    "from functools import reduce"
   ]
  },
  {
   "cell_type": "markdown",
   "metadata": {},
   "source": [
    "# Using for loop"
   ]
  },
  {
   "cell_type": "code",
   "execution_count": 9,
   "metadata": {},
   "outputs": [
    {
     "name": "stdout",
     "output_type": "stream",
     "text": [
      "{'Mary': 1, 'Lamb': [1, 2], 'Had': 1, 'A': 1, 'Little': 2}\n"
     ]
    }
   ],
   "source": [
    "dic = {}\n",
    "for page in book:\n",
    "    for word in page:\n",
    "        if word in dic:\n",
    "            dic[word] = [dic[word], book.index(page)+1]\n",
    "        else:\n",
    "            dic[word]=book.index(page)+1\n",
    "print(dic)"
   ]
  },
  {
   "cell_type": "markdown",
   "metadata": {},
   "source": [
    "# Using map"
   ]
  },
  {
   "cell_type": "code",
   "execution_count": 10,
   "metadata": {},
   "outputs": [
    {
     "name": "stdout",
     "output_type": "stream",
     "text": [
      "{'Mary': [1], 'Lamb': [1, 2], 'Had': [1], 'A': [1], 'Little': [2]}\n"
     ]
    }
   ],
   "source": [
    "dic = {}\n",
    "list(map(lambda page:\n",
    "    (list(map(lambda word:\n",
    "         dic.update({word: dic[word] + [book.index(page) + 1]}) if word in dic\n",
    "         else dic.update({word:[book.index(page) + 1]}),\n",
    "         page))),\n",
    "    book))\n",
    "print (dic)"
   ]
  },
  {
   "cell_type": "markdown",
   "metadata": {},
   "source": [
    "# Using Map and Reduce"
   ]
  },
  {
   "cell_type": "code",
   "execution_count": 23,
   "metadata": {},
   "outputs": [
    {
     "data": {
      "text/plain": [
       "{'A': [1], 'Had': [1], 'Lamb': [1, 2], 'Little': [2], 'Mary': [1]}"
      ]
     },
     "execution_count": 23,
     "metadata": {},
     "output_type": "execute_result"
    }
   ],
   "source": [
    "def make_dic(keys,values):\n",
    "    dictionary = dict(zip(keys, values))\n",
    "    return(dictionary)\n",
    "\n",
    "def combine_dic(dic1,dic2):\n",
    "    for key in dic2.keys():\n",
    "        if(key in dic1.keys()):\n",
    "            dic1[key] = dic1[key] + dic2[key]\n",
    "        else:\n",
    "            dic1[key] = dic2[key]\n",
    "    return(dic1)\n",
    "        \n",
    "reduce(combine_dic,\n",
    "       list(map(make_dic,\n",
    "                book,map(lambda x: [[book.index(x) + 1]] * len(x),book))))"
   ]
  }
 ],
 "metadata": {
  "kernelspec": {
   "display_name": "Python 3",
   "language": "python",
   "name": "python3"
  },
  "language_info": {
   "codemirror_mode": {
    "name": "ipython",
    "version": 3
   },
   "file_extension": ".py",
   "mimetype": "text/x-python",
   "name": "python",
   "nbconvert_exporter": "python",
   "pygments_lexer": "ipython3",
   "version": "3.6.3"
  }
 },
 "nbformat": 4,
 "nbformat_minor": 2
}
