{
 "cells": [
  {
   "cell_type": "code",
   "execution_count": 1,
   "metadata": {},
   "outputs": [],
   "source": [
    "import json\n",
    "from math import sin, cos, sqrt, atan2, radians"
   ]
  },
  {
   "cell_type": "code",
   "execution_count": 2,
   "metadata": {},
   "outputs": [],
   "source": [
    "# jason includes all capitals of 50 states\n",
    "# state, capital, lat, long\n",
    "with open('us_state_capitals.json', 'r') as file:\n",
    "    data = json.load(file)"
   ]
  },
  {
   "cell_type": "code",
   "execution_count": 3,
   "metadata": {},
   "outputs": [],
   "source": [
    "# dictionary stores all longest path along to the different departure state.\n",
    "maxResult = {}\n",
    "\n",
    "# matrix contains distance table between all 50 states.\n",
    "m = []"
   ]
  },
  {
   "cell_type": "code",
   "execution_count": 4,
   "metadata": {},
   "outputs": [],
   "source": [
    "# Haversine formula\n",
    "# determines the great-circle distance between two points on a sphere given their longitudes and latitudes.\n",
    "\n",
    "def getDistance(dep, dest):\n",
    "    # earch radius from wikipedia\n",
    "    r = 6371  \n",
    "\n",
    "    # convert degree to radians for calculation\n",
    "    lat1 = radians(float(data[dep]['lat']))\n",
    "    lat2 = radians(float(data[dest]['lat']))\n",
    "    long1 = radians(float(data[dep]['long']))\n",
    "    long2 = radians(float(data[dest]['long']))\n",
    "\n",
    "    dLat = lat2 - lat1\n",
    "    dLong = long2 - long1\n",
    "\n",
    "    # haversine formula\n",
    "    a = sin(dLat / 2) ** 2 + cos(lat1) * cos(lat2) * sin(dLong / 2) ** 2\n",
    "    c = 2 * atan2(sqrt(a), sqrt(1 - a))\n",
    "\n",
    "    # return miles.\n",
    "    return r * c / 1.609344"
   ]
  },
  {
   "cell_type": "code",
   "execution_count": 5,
   "metadata": {},
   "outputs": [],
   "source": [
    "# using Depth-first search to find out the longest path within 1000 miles\n",
    "\n",
    "def getPath(dep, i, cost = 0, actPath = []):\n",
    "\n",
    "    j = 0\n",
    "    for each in data:\n",
    "        # if the node not reached yet and total milage still in 1000\n",
    "        if(j not in actPath) and (j != dep) and (m[i][j] != 0) and ((cost + m[i][j]) <= 1000):\n",
    "\n",
    "            # dfs\n",
    "            getPath(dep, j, cost + m[i][j], actPath + [j])\n",
    "\n",
    "            # assign to the result if dfs found longer path\n",
    "            if(len(maxResult) is 0) or (dep not in maxResult):\n",
    "                maxResult[dep] = [dep]\n",
    "            if(len(actPath) > len(maxResult[dep])):\n",
    "                maxResult[dep] = actPath + [j]\n",
    "        j += 1"
   ]
  },
  {
   "cell_type": "code",
   "execution_count": 6,
   "metadata": {},
   "outputs": [
    {
     "name": "stdout",
     "output_type": "stream",
     "text": [
      "CT  ->  DE -> MD -> PA -> NJ -> NY -> RI -> MA -> NH -> VT  ==  999 miles.\n",
      "DE  ->  MD -> NJ -> CT -> MA -> NH -> RI -> NY -> VT -> ME  ==  993 miles.\n",
      "KY  ->  WV -> VA -> MD -> DE -> NJ -> CT -> RI -> MA -> NH  ==  985 miles.\n",
      "ME  ->  CT -> MA -> RI -> NH -> NY -> NJ -> DE -> MD -> PA  ==  978 miles.\n",
      "MD  ->  DE -> CT -> RI -> MA -> NH -> VT -> NY -> NJ -> PA  ==  964 miles.\n",
      "MA  ->  CT -> NH -> ME -> VT -> NY -> NJ -> DE -> MD -> PA  ==  995 miles.\n",
      "NH  ->  CT -> MA -> RI -> NJ -> DE -> PA -> MD -> VA -> NC  ==  980 miles.\n",
      "NJ  ->  CT -> MA -> RI -> NH -> NY -> PA -> DE -> MD -> VA  ==  995 miles.\n",
      "NY  ->  CT -> DE -> MD -> PA -> NJ -> RI -> MA -> NH -> VT  ==  979 miles.\n",
      "NC  ->  DE -> MD -> NJ -> NY -> CT -> RI -> MA -> NH -> VT  ==  993 miles.\n",
      "OH  ->  PA -> MD -> DE -> NJ -> CT -> RI -> MA -> NH -> ME  ==  996 miles.\n",
      "PA  ->  CT -> MA -> RI -> NH -> VT -> NY -> NJ -> DE -> MD  ==  994 miles.\n",
      "RI  ->  CT -> MA -> ME -> NH -> NY -> NJ -> DE -> MD -> PA  ==  956 miles.\n",
      "SC  ->  NC -> MD -> DE -> NJ -> CT -> RI -> MA -> NH -> VT  ==  985 miles.\n",
      "VT  ->  CT -> MA -> NH -> RI -> NY -> NJ -> DE -> MD -> PA  ==  974 miles.\n",
      "VA  ->  DE -> MD -> NJ -> CT -> MA -> NH -> VT -> NY -> RI  ==  999 miles.\n",
      "WV  ->  MD -> DE -> NJ -> CT -> NY -> RI -> MA -> NH -> VT  ==  985 miles.\n",
      "\n",
      "There are multiple results having same traveling length.\n",
      " We only picked longest route for each departure capital,\n",
      "Total 17 path departs from different states.\n",
      "The maximum length can travel 10 capitals.\n"
     ]
    }
   ],
   "source": [
    "def main():\n",
    "    index = 0\n",
    "\n",
    "    # generate matrix m for all distance <= 1000 between two cities.\n",
    "    for dep in data:\n",
    "        n = []\n",
    "\n",
    "        for dest in data:\n",
    "            dist = round(getDistance(dep, dest))\n",
    "\n",
    "            if(dist > 1000):\n",
    "                dist = 0\n",
    "\n",
    "            n.append(dist)\n",
    "        m.append(n)\n",
    "        index += 1\n",
    "\n",
    "    # list that stores all state name by index\n",
    "    st = []\n",
    "    for each in data:\n",
    "        st += [each]\n",
    "\n",
    "\n",
    "    #call dfs recursion.\n",
    "    for i in range(len(data)):\n",
    "        getPath(i, i)\n",
    "\n",
    "\n",
    "    # find maxLength from all path results\n",
    "    maxLength = 0\n",
    "    for each in maxResult:\n",
    "        for ind in range(len(maxResult[each])):\n",
    "            if(len(maxResult[each]) > maxLength):\n",
    "                maxLength = len(maxResult[each])\n",
    "\n",
    "\n",
    "    # print longest path we found\n",
    "    for each in maxResult:\n",
    "        total = 0\n",
    "        res = \"\"\n",
    "\n",
    "        for ind in range(len(maxResult[each])):\n",
    "            curr = maxResult[each]\n",
    "            if ind == 0:\n",
    "                total += m[each][curr[ind]]\n",
    "            else:\n",
    "                total += m[curr[ind - 1]][curr[ind]]\n",
    "\n",
    "        for s in maxResult[each]:\n",
    "            if(len(res) != 0):\n",
    "                res = res + \" -> \" + st[s]\n",
    "            else:\n",
    "                res = st[s]\n",
    "        if(len(maxResult[each]) == maxLength):\n",
    "            print(st[each] , \" -> \" , res , \" == \" , total, \"miles.\")\n",
    "\n",
    "    # Notice\n",
    "    print(\"\\nThere are multiple results having same traveling length.\\n We only picked longest route for each departure capital,\\nTotal 17 path departs from different states.\\nThe maximum length can travel 10 capitals.\")\n",
    "\n",
    "\n",
    "\n",
    "if __name__ == \"__main__\":\n",
    "    main()"
   ]
  },
  {
   "cell_type": "markdown",
   "metadata": {},
   "source": [
    "#### Reference\n"
   ]
  },
  {
   "cell_type": "markdown",
   "metadata": {},
   "source": [
    "https://stackoverflow.com/questions/27928/calculate-distance-between-two-latitude-longitude-points-haversine-formula"
   ]
  }
 ],
 "metadata": {
  "kernelspec": {
   "display_name": "Python 3",
   "language": "python",
   "name": "python3"
  },
  "language_info": {
   "codemirror_mode": {
    "name": "ipython",
    "version": 3
   },
   "file_extension": ".py",
   "mimetype": "text/x-python",
   "name": "python",
   "nbconvert_exporter": "python",
   "pygments_lexer": "ipython3",
   "version": "3.6.3"
  }
 },
 "nbformat": 4,
 "nbformat_minor": 2
}
